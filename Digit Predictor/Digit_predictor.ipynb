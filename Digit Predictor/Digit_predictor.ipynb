{
 "cells": [
  {
   "cell_type": "code",
   "execution_count": 1,
   "metadata": {},
   "outputs": [],
   "source": [
    "import cv2, numpy as np, matplotlib.pyplot as plt, seaborn as sns, keras, os\n",
    "from sklearn.model_selection import train_test_split as tts\n",
    "from keras.preprocessing.image import ImageDataGenerator\n",
    "from keras.utils.np_utils import to_categorical\n",
    "from keras.models import Sequential\n",
    "from keras.layers import Dense, Dropout, Flatten\n",
    "from keras.optimizers import Adam\n",
    "from keras.layers.convolutional import Conv2D, MaxPooling2D\n",
    "import pickle"
   ]
  },
  {
   "cell_type": "code",
   "execution_count": 2,
   "metadata": {},
   "outputs": [
    {
     "data": {
      "text/plain": [
       "['0', '1', '2', '3', '4', '5', '6', '7', '8', '9']"
      ]
     },
     "execution_count": 2,
     "metadata": {},
     "output_type": "execute_result"
    }
   ],
   "source": [
    "path = \"myData/\"\n",
    "myList = os.listdir(path)\n",
    "myList"
   ]
  },
  {
   "cell_type": "code",
   "execution_count": 3,
   "metadata": {},
   "outputs": [
    {
     "name": "stdout",
     "output_type": "stream",
     "text": [
      "(10160, 32, 32, 3)\n",
      "(10160,)\n"
     ]
    }
   ],
   "source": [
    "ImgList = []\n",
    "classList = []\n",
    "for x in myList:\n",
    "    myImgList = os.listdir(path + x)\n",
    "    for y in myImgList:\n",
    "        currImg = cv2.imread(path + x + \"/\" + y)\n",
    "        currImg = cv2.resize(currImg, (32, 32))\n",
    "        ImgList.append(currImg)\n",
    "        classList.append(int(x))\n",
    "\n",
    "ImgList = np.array(ImgList)\n",
    "classList = np.array(classList)\n",
    "print(ImgList.shape)\n",
    "print(classList.shape)"
   ]
  },
  {
   "cell_type": "code",
   "execution_count": 4,
   "metadata": {},
   "outputs": [
    {
     "name": "stdout",
     "output_type": "stream",
     "text": [
      "Training set:  (6502, 32, 32, 3)\n",
      "Testing set:  (2032, 32, 32, 3)\n",
      "Val set:  (1626, 32, 32, 3)\n"
     ]
    }
   ],
   "source": [
    "X_train, X_test, y_train, y_test = tts(ImgList, classList, train_size = 0.8)\n",
    "X_train, X_val, y_train, y_val = tts(X_train, y_train, train_size = 0.8)\n",
    "print(\"Training set: \",X_train.shape)\n",
    "print(\"Testing set: \",X_test.shape)\n",
    "print(\"Val set: \",X_val.shape)"
   ]
  },
  {
   "cell_type": "code",
   "execution_count": 5,
   "metadata": {},
   "outputs": [
    {
     "name": "stdout",
     "output_type": "stream",
     "text": [
      "[647, 645, 642, 645, 671, 661, 651, 655, 630, 655]\n"
     ]
    }
   ],
   "source": [
    "noOfSample = []\n",
    "for i in range(10):\n",
    "    noOfSample.append(len(np.where(y_train==i)[0]))\n",
    "print(noOfSample)"
   ]
  },
  {
   "cell_type": "code",
   "execution_count": 6,
   "metadata": {},
   "outputs": [
    {
     "data": {
      "image/png": "[encoded data removed]",
      "text/plain": [
       "<Figure size 720x360 with 1 Axes>"
      ]
     },
     "metadata": {
      "needs_background": "light"
     },
     "output_type": "display_data"
    }
   ],
   "source": [
    "plt.figure(figsize=(10,5))\n",
    "\n",
    "plt.bar(range(10), noOfSample)\n",
    "plt.title(\"Number fo images for each class\")\n",
    "plt.xlabel(\"Class ID\")\n",
    "plt.ylabel(\"No. of images\")\n",
    "plt.show()"
   ]
  },
  {
   "cell_type": "code",
   "execution_count": 7,
   "metadata": {},
   "outputs": [],
   "source": [
    "def preProcessing(img):\n",
    "    img = cv2.cvtColor(img, cv2.COLOR_BGR2GRAY)\n",
    "    img = cv2.equalizeHist(img)\n",
    "    img = img/255\n",
    "    return img"
   ]
  },
  {
   "cell_type": "code",
   "execution_count": 8,
   "metadata": {},
   "outputs": [
    {
     "name": "stdout",
     "output_type": "stream",
     "text": [
      "Training set:  (6502, 32, 32)\n",
      "Testing set:  (2032, 32, 32)\n",
      "Val set:  (1626, 32, 32)\n"
     ]
    }
   ],
   "source": [
    "X_train = np.array(list(map(preProcessing, X_train)))\n",
    "X_test = np.array(list(map(preProcessing, X_test)))\n",
    "X_val = np.array(list(map(preProcessing, X_val)))\n",
    "print(\"Training set: \",X_train.shape)\n",
    "print(\"Testing set: \",X_test.shape)\n",
    "print(\"Val set: \",X_val.shape)"
   ]
  },
  {
   "cell_type": "code",
   "execution_count": 9,
   "metadata": {},
   "outputs": [
    {
     "name": "stdout",
     "output_type": "stream",
     "text": [
      "Training set:  (6502, 32, 32, 1)\n",
      "Testing set:  (2032, 32, 32, 1)\n",
      "Val set:  (1626, 32, 32, 1)\n"
     ]
    }
   ],
   "source": [
    "X_train = X_train.reshape( X_train.shape[0],  X_train.shape[1],  X_train.shape[2], 1)\n",
    "X_test = X_test.reshape( X_test.shape[0],  X_test.shape[1],  X_test.shape[2], 1)\n",
    "X_val = X_val.reshape( X_val.shape[0],  X_val.shape[1],  X_val.shape[2], 1)\n",
    "print(\"Training set: \",X_train.shape)\n",
    "print(\"Testing set: \",X_test.shape)\n",
    "print(\"Val set: \",X_val.shape)"
   ]
  },
  {
   "cell_type": "code",
   "execution_count": 10,
   "metadata": {},
   "outputs": [],
   "source": [
    "dataGen = ImageDataGenerator(width_shift_range=0.1,\n",
    "                            height_shift_range=0.1,\n",
    "                            shear_range=0.1,\n",
    "                            zoom_range=0.2,\n",
    "                            rotation_range=10)\n",
    "dataGen.fit(X_train)\n",
    "\n",
    "y_train = to_categorical(y_train, 10)\n",
    "y_test = to_categorical(y_test, 10)\n",
    "y_val = to_categorical(y_val, 10)"
   ]
  },
  {
   "cell_type": "code",
   "execution_count": 26,
   "metadata": {},
   "outputs": [],
   "source": [
    "def model():\n",
    "    filters = 60\n",
    "    size_f1 = (5,5)\n",
    "    size_f2 = (3,3)\n",
    "    size_pool = (2,2)\n",
    "    nodes = 500\n",
    "    model = keras.Sequential()\n",
    "    model.add((Conv2D(filters, size_f1, input_shape = (32,32,1), activation = \"relu\")))\n",
    "    model.add((Conv2D(filters, size_f1, activation = \"relu\")))\n",
    "    model.add(MaxPooling2D(pool_size = size_pool))\n",
    "    model.add((Conv2D(filters//2, size_f2, activation = \"relu\")))\n",
    "    model.add((Conv2D(filters//2, size_f2, activation = \"relu\")))\n",
    "    model.add(MaxPooling2D(pool_size = size_pool))\n",
    "    model.add(Dropout(0.5))\n",
    "    model.add(Flatten())\n",
    "    model.add(Dense(nodes, activation = \"relu\"))\n",
    "    model.add(Dropout(0.5))\n",
    "    model.add(Dense(10, activation = \"softmax\"))\n",
    "    model.compile(Adam(learning_rate = 0.001), loss = 'categorical_crossentropy', metrics = ['accuracy'])\n",
    "    return model"
   ]
  },
  {
   "cell_type": "code",
   "execution_count": 27,
   "metadata": {},
   "outputs": [
    {
     "name": "stdout",
     "output_type": "stream",
     "text": [
      "Model: \"sequential_2\"\n",
      "_________________________________________________________________\n",
      "Layer (type)                 Output Shape              Param #   \n",
      "=================================================================\n",
      "conv2d_8 (Conv2D)            (None, 28, 28, 60)        1560      \n",
      "_________________________________________________________________\n",
      "conv2d_9 (Conv2D)            (None, 24, 24, 60)        90060     \n",
      "_________________________________________________________________\n",
      "max_pooling2d_4 (MaxPooling2 (None, 12, 12, 60)        0         \n",
      "_________________________________________________________________\n",
      "conv2d_10 (Conv2D)           (None, 10, 10, 30)        16230     \n",
      "_________________________________________________________________\n",
      "conv2d_11 (Conv2D)           (None, 8, 8, 30)          8130      \n",
      "_________________________________________________________________\n",
      "max_pooling2d_5 (MaxPooling2 (None, 4, 4, 30)          0         \n",
      "_________________________________________________________________\n",
      "dropout_4 (Dropout)          (None, 4, 4, 30)          0         \n",
      "_________________________________________________________________\n",
      "flatten_2 (Flatten)          (None, 480)               0         \n",
      "_________________________________________________________________\n",
      "dense_4 (Dense)              (None, 500)               240500    \n",
      "_________________________________________________________________\n",
      "dropout_5 (Dropout)          (None, 500)               0         \n",
      "_________________________________________________________________\n",
      "dense_5 (Dense)              (None, 10)                5010      \n",
      "=================================================================\n",
      "Total params: 361,490\n",
      "Trainable params: 361,490\n",
      "Non-trainable params: 0\n",
      "_________________________________________________________________\n"
     ]
    }
   ],
   "source": [
    "model = model()\n",
    "model.summary()"
   ]
  },
  {
   "cell_type": "code",
   "execution_count": 30,
   "metadata": {},
   "outputs": [
    {
     "name": "stdout",
     "output_type": "stream",
     "text": [
      "Epoch 1/10\n",
      "130/130 [==============================] - 55s 422ms/step - loss: 0.3807 - accuracy: 0.8830\n",
      "Epoch 2/10\n",
      "130/130 [==============================] - 58s 444ms/step - loss: 0.2572 - accuracy: 0.9160\n",
      "Epoch 3/10\n",
      "130/130 [==============================] - 52s 396ms/step - loss: 0.2199 - accuracy: 0.9320\n",
      "Epoch 4/10\n",
      "130/130 [==============================] - 52s 398ms/step - loss: 0.1802 - accuracy: 0.9431\n",
      "Epoch 5/10\n",
      "130/130 [==============================] - 51s 393ms/step - loss: 0.1589 - accuracy: 0.9481\n",
      "Epoch 6/10\n",
      "130/130 [==============================] - 50s 382ms/step - loss: 0.1476 - accuracy: 0.9561\n",
      "Epoch 7/10\n",
      "130/130 [==============================] - 50s 385ms/step - loss: 0.1349 - accuracy: 0.9572\n",
      "Epoch 8/10\n",
      "130/130 [==============================] - 55s 422ms/step - loss: 0.1353 - accuracy: 0.9580\n",
      "Epoch 9/10\n",
      "130/130 [==============================] - 81s 623ms/step - loss: 0.1141 - accuracy: 0.9628\n",
      "Epoch 10/10\n",
      "130/130 [==============================] - 79s 602ms/step - loss: 0.1055 - accuracy: 0.9662\n",
      "Epoch 1/10\n",
      "130/130 [==============================] - 66s 511ms/step - loss: 0.0930 - accuracy: 0.9685 - val_loss: 0.0258 - val_accuracy: 0.9926\n",
      "Epoch 2/10\n",
      "130/130 [==============================] - 63s 485ms/step - loss: 0.0918 - accuracy: 0.9709 - val_loss: 0.0255 - val_accuracy: 0.9895\n",
      "Epoch 3/10\n",
      "130/130 [==============================] - 56s 431ms/step - loss: 0.0994 - accuracy: 0.9702 - val_loss: 0.0249 - val_accuracy: 0.9938\n",
      "Epoch 4/10\n",
      "130/130 [==============================] - 53s 404ms/step - loss: 0.0864 - accuracy: 0.9716 - val_loss: 0.0216 - val_accuracy: 0.9945\n",
      "Epoch 5/10\n",
      "130/130 [==============================] - 53s 410ms/step - loss: 0.0914 - accuracy: 0.9721 - val_loss: 0.0234 - val_accuracy: 0.9932\n",
      "Epoch 6/10\n",
      "130/130 [==============================] - 53s 406ms/step - loss: 0.0801 - accuracy: 0.9758 - val_loss: 0.0247 - val_accuracy: 0.9932\n",
      "Epoch 7/10\n",
      "130/130 [==============================] - 53s 406ms/step - loss: 0.0917 - accuracy: 0.9707 - val_loss: 0.0376 - val_accuracy: 0.9920\n",
      "Epoch 8/10\n",
      "130/130 [==============================] - 53s 405ms/step - loss: 0.1275 - accuracy: 0.9600 - val_loss: 0.0231 - val_accuracy: 0.9938\n",
      "Epoch 9/10\n",
      "130/130 [==============================] - 52s 402ms/step - loss: 0.0866 - accuracy: 0.9713 - val_loss: 0.0378 - val_accuracy: 0.9877\n",
      "Epoch 10/10\n",
      "130/130 [==============================] - 53s 405ms/step - loss: 0.0686 - accuracy: 0.9755 - val_loss: 0.0231 - val_accuracy: 0.9920\n",
      "Epoch 1/10\n",
      "130/130 [==============================] - 53s 407ms/step - loss: 0.0783 - accuracy: 0.9758 - val_loss: 0.0216 - val_accuracy: 0.9926\n",
      "Epoch 2/10\n",
      "130/130 [==============================] - 52s 400ms/step - loss: 0.0571 - accuracy: 0.9814 - val_loss: 0.0216 - val_accuracy: 0.9926\n",
      "Epoch 3/10\n",
      "130/130 [==============================] - 53s 406ms/step - loss: 0.0547 - accuracy: 0.9833 - val_loss: 0.0203 - val_accuracy: 0.9938\n",
      "Epoch 4/10\n",
      "130/130 [==============================] - 52s 403ms/step - loss: 0.0630 - accuracy: 0.9803 - val_loss: 0.0211 - val_accuracy: 0.9938\n",
      "Epoch 5/10\n",
      "130/130 [==============================] - 52s 402ms/step - loss: 0.0596 - accuracy: 0.9828 - val_loss: 0.0226 - val_accuracy: 0.9945\n",
      "Epoch 6/10\n",
      "130/130 [==============================] - 54s 414ms/step - loss: 0.0692 - accuracy: 0.9781 - val_loss: 0.0240 - val_accuracy: 0.9945\n",
      "Epoch 7/10\n",
      "130/130 [==============================] - 52s 401ms/step - loss: 0.0562 - accuracy: 0.9833 - val_loss: 0.0203 - val_accuracy: 0.9932\n",
      "Epoch 8/10\n",
      "130/130 [==============================] - 53s 405ms/step - loss: 0.0555 - accuracy: 0.9828 - val_loss: 0.0190 - val_accuracy: 0.9945\n",
      "Epoch 9/10\n",
      "130/130 [==============================] - 52s 402ms/step - loss: 0.0590 - accuracy: 0.9837 - val_loss: 0.0152 - val_accuracy: 0.9963\n",
      "Epoch 10/10\n",
      "130/130 [==============================] - 52s 403ms/step - loss: 0.0539 - accuracy: 0.9819 - val_loss: 0.0149 - val_accuracy: 0.9938\n",
      "Epoch 1/10\n",
      "130/130 [==============================] - 53s 409ms/step - loss: 0.0544 - accuracy: 0.9830 - val_loss: 0.0152 - val_accuracy: 0.9945\n",
      "Epoch 2/10\n",
      "130/130 [==============================] - 53s 404ms/step - loss: 0.0474 - accuracy: 0.9856 - val_loss: 0.0169 - val_accuracy: 0.9957\n",
      "Epoch 3/10\n",
      "130/130 [==============================] - 53s 404ms/step - loss: 0.0473 - accuracy: 0.9864 - val_loss: 0.0223 - val_accuracy: 0.9926\n",
      "Epoch 4/10\n",
      "130/130 [==============================] - 52s 402ms/step - loss: 0.0555 - accuracy: 0.9842 - val_loss: 0.0204 - val_accuracy: 0.9920\n",
      "Epoch 5/10\n",
      "130/130 [==============================] - 53s 405ms/step - loss: 0.0512 - accuracy: 0.9830 - val_loss: 0.0204 - val_accuracy: 0.9926\n",
      "Epoch 6/10\n",
      "130/130 [==============================] - 53s 405ms/step - loss: 0.0531 - accuracy: 0.9811 - val_loss: 0.0255 - val_accuracy: 0.9920\n",
      "Epoch 7/10\n",
      "130/130 [==============================] - 57s 442ms/step - loss: 0.0526 - accuracy: 0.9853 - val_loss: 0.0214 - val_accuracy: 0.9920\n",
      "Epoch 8/10\n",
      "130/130 [==============================] - 53s 407ms/step - loss: 0.0455 - accuracy: 0.9853 - val_loss: 0.0176 - val_accuracy: 0.9945\n",
      "Epoch 9/10\n",
      "130/130 [==============================] - 53s 407ms/step - loss: 0.0415 - accuracy: 0.9867 - val_loss: 0.0150 - val_accuracy: 0.9938\n",
      "Epoch 10/10\n",
      "130/130 [==============================] - 52s 402ms/step - loss: 0.0544 - accuracy: 0.9847 - val_loss: 0.0159 - val_accuracy: 0.9951\n",
      "Epoch 1/10\n",
      "130/130 [==============================] - 53s 407ms/step - loss: 0.0420 - accuracy: 0.9874 - val_loss: 0.0182 - val_accuracy: 0.9945\n",
      "Epoch 2/10\n",
      "130/130 [==============================] - 53s 404ms/step - loss: 0.0447 - accuracy: 0.9845 - val_loss: 0.0160 - val_accuracy: 0.9938\n",
      "Epoch 3/10\n",
      "130/130 [==============================] - 52s 402ms/step - loss: 0.0416 - accuracy: 0.9859 - val_loss: 0.0147 - val_accuracy: 0.9945\n",
      "Epoch 4/10\n",
      "130/130 [==============================] - 55s 422ms/step - loss: 0.0391 - accuracy: 0.9873 - val_loss: 0.0111 - val_accuracy: 0.9975\n",
      "Epoch 5/10\n",
      "130/130 [==============================] - 52s 403ms/step - loss: 0.0326 - accuracy: 0.9885 - val_loss: 0.0114 - val_accuracy: 0.9963\n",
      "Epoch 6/10\n",
      "130/130 [==============================] - 52s 402ms/step - loss: 0.0458 - accuracy: 0.9867 - val_loss: 0.0137 - val_accuracy: 0.9951\n",
      "Epoch 7/10\n",
      "130/130 [==============================] - 53s 410ms/step - loss: 0.0490 - accuracy: 0.9843 - val_loss: 0.0198 - val_accuracy: 0.9932\n",
      "Epoch 8/10\n",
      "130/130 [==============================] - 54s 417ms/step - loss: 0.0419 - accuracy: 0.9871 - val_loss: 0.0127 - val_accuracy: 0.9951\n",
      "Epoch 9/10\n",
      "130/130 [==============================] - 53s 404ms/step - loss: 0.0367 - accuracy: 0.9879 - val_loss: 0.0192 - val_accuracy: 0.9938\n",
      "Epoch 10/10\n",
      "130/130 [==============================] - 53s 406ms/step - loss: 0.0457 - accuracy: 0.9843 - val_loss: 0.0123 - val_accuracy: 0.9945\n"
     ]
    }
   ],
   "source": [
    "for i in range(3):\n",
    "    history = model.fit(dataGen.flow(X_train, y_train, batch_size=50),\n",
    "                       steps_per_epoch=len(X_train)//50,\n",
    "                       epochs=10,\n",
    "                       validation_data=(X_val, y_val),\n",
    "                       shuffle=1)"
   ]
  },
  {
   "cell_type": "code",
   "execution_count": 31,
   "metadata": {},
   "outputs": [
    {
     "data": {
      "image/png": "[encoded data removed]",
      "text/plain": [
       "<Figure size 432x288 with 1 Axes>"
      ]
     },
     "metadata": {
      "needs_background": "light"
     },
     "output_type": "display_data"
    },
    {
     "data": {
      "image/png": "[encoded data removed]",
      "text/plain": [
       "<Figure size 432x288 with 1 Axes>"
      ]
     },
     "metadata": {
      "needs_background": "light"
     },
     "output_type": "display_data"
    }
   ],
   "source": [
    "plt.figure(1)\n",
    "plt.plot(history.history['loss'])\n",
    "plt.plot(history.history['val_loss'])\n",
    "plt.legend(['Training', 'Validation'])\n",
    "plt.title(\"Loss\")\n",
    "plt.xlabel(\"Epochs\")\n",
    "\n",
    "plt.figure(2)\n",
    "plt.plot(history.history['accuracy'])\n",
    "plt.plot(history.history['val_accuracy'])\n",
    "plt.legend(['Training', 'Validation'])\n",
    "plt.title(\"Accuracy\")\n",
    "plt.xlabel(\"Epochs\")\n",
    "plt.show()"
   ]
  },
  {
   "cell_type": "code",
   "execution_count": 32,
   "metadata": {},
   "outputs": [
    {
     "name": "stdout",
     "output_type": "stream",
     "text": [
      "Test Score:  0.01008786354213953\n",
      "Test Accuracy:  0.998031497001648\n"
     ]
    }
   ],
   "source": [
    "score = model.evaluate(X_test, y_test, verbose=0)\n",
    "print(\"Test Score: \", score[0])\n",
    "print(\"Test Accuracy: \", score[1])"
   ]
  },
  {
   "cell_type": "code",
   "execution_count": 35,
   "metadata": {},
   "outputs": [],
   "source": [
    "model.save('C:/Users/piyus/Desktop/mywork/Image Sudoku/Sudoku/digit_predictor.h5')"
   ]
  }
 ],
 "metadata": {
  "kernelspec": {
   "display_name": "Python 3",
   "language": "python",
   "name": "python3"
  },
  "language_info": {
   "codemirror_mode": {
    "name": "ipython",
    "version": 3
   },
   "file_extension": ".py",
   "mimetype": "text/x-python",
   "name": "python",
   "nbconvert_exporter": "python",
   "pygments_lexer": "ipython3",
   "version": "3.8.5"
  }
 },
 "nbformat": 4,
 "nbformat_minor": 4
}
